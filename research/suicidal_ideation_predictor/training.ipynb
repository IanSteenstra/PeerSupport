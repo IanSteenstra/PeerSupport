{
 "cells": [
  {
   "cell_type": "code",
   "execution_count": 22,
   "metadata": {},
   "outputs": [],
   "source": [
    "import praw\n",
    "import pandas as pd\n",
    "import datetime as dt\n",
    "from tensorflow.keras import layers\n",
    "from tensorflow.keras.models import Sequential\n",
    "from tensorflow.keras.layers import Dense\n",
    "from tensorflow.keras.losses import binary_crossentropy\n",
    "from tensorflow.keras.optimizers import Adam\n",
    "from gensim.models import KeyedVectors, Word2Vec\n",
    "from gensim.test.utils import common_texts, get_tmpfile\n",
    "import numpy as np\n",
    "import re\n",
    "import nltk\n",
    "from nltk.tokenize import word_tokenize\n",
    "from nltk.corpus import stopwords \n",
    "from nltk.stem import WordNetLemmatizer\n",
    "import string\n",
    "from sklearn.model_selection import train_test_split\n",
    "import matplotlib.pyplot as plt\n",
    "from sklearn.manifold import TSNE"
   ]
  },
  {
   "cell_type": "markdown",
   "metadata": {},
   "source": [
    "#### Reddit OAuth"
   ]
  },
  {
   "cell_type": "code",
   "execution_count": 10,
   "metadata": {},
   "outputs": [],
   "source": [
    "reddit = praw.Reddit(client_id='QglgyO3lXXhvsw',\n",
    "                     client_secret='4C04cO2Cy9AlWpXQDnsa4BPhka0',\n",
    "                     password='Skyguitar1',\n",
    "                     user_agent='TherapyNow',\n",
    "                     username='MachineLearningGuru')"
   ]
  },
  {
   "cell_type": "markdown",
   "metadata": {},
   "source": [
    "#### Collect data from r/SuicideWatch"
   ]
  },
  {
   "cell_type": "code",
   "execution_count": 11,
   "metadata": {},
   "outputs": [],
   "source": [
    "suicide_sub = reddit.subreddit('SuicideWatch')"
   ]
  },
  {
   "cell_type": "code",
   "execution_count": 12,
   "metadata": {},
   "outputs": [],
   "source": [
    "suicide_sub = list(suicide_sub.top(limit=1000))"
   ]
  },
  {
   "cell_type": "code",
   "execution_count": 13,
   "metadata": {},
   "outputs": [],
   "source": [
    "topics_dict = { \"title\":[], \"suicidal\":[] }"
   ]
  },
  {
   "cell_type": "code",
   "execution_count": 14,
   "metadata": {},
   "outputs": [],
   "source": [
    "for submission in suicide_sub:\n",
    "    topics_dict[\"title\"].append(submission.title)\n",
    "    topics_dict[\"suicidal\"].append(1)"
   ]
  },
  {
   "cell_type": "markdown",
   "metadata": {},
   "source": [
    "#### Collect data from r/All"
   ]
  },
  {
   "cell_type": "code",
   "execution_count": 15,
   "metadata": {},
   "outputs": [],
   "source": [
    "all_sub = reddit.subreddit('All')"
   ]
  },
  {
   "cell_type": "code",
   "execution_count": 16,
   "metadata": {},
   "outputs": [],
   "source": [
    "all_sub = list(all_sub.top(limit=5000))"
   ]
  },
  {
   "cell_type": "code",
   "execution_count": 17,
   "metadata": {},
   "outputs": [],
   "source": [
    "for submission in all_sub:\n",
    "    topics_dict[\"title\"].append(submission.title)\n",
    "    topics_dict[\"suicidal\"].append(0)"
   ]
  },
  {
   "cell_type": "markdown",
   "metadata": {},
   "source": [
    "#### Store data in csv"
   ]
  },
  {
   "cell_type": "code",
   "execution_count": 18,
   "metadata": {},
   "outputs": [],
   "source": [
    "topics_data = pd.DataFrame(topics_dict)"
   ]
  },
  {
   "cell_type": "code",
   "execution_count": 19,
   "metadata": {},
   "outputs": [],
   "source": [
    "topics_data.to_csv('Data.csv', index=False) "
   ]
  },
  {
   "cell_type": "markdown",
   "metadata": {},
   "source": [
    "### Model"
   ]
  },
  {
   "cell_type": "code",
   "execution_count": 23,
   "metadata": {},
   "outputs": [],
   "source": [
    "emb_model = KeyedVectors.load_word2vec_format(\"GoogleNews-vectors-negative300.bin\", binary=True)"
   ]
  },
  {
   "cell_type": "code",
   "execution_count": 24,
   "metadata": {},
   "outputs": [],
   "source": [
    "def phrase_pre_processing(phrase):\n",
    "    # Basic Text PreProcessing\n",
    "    phrase = re.sub(' +', ' ', re.sub(r'\\d+', '', phrase.lower()).translate(str.maketrans(\"\",\"\", string.punctuation+'\\n'+'\\r'+'\\t')))\n",
    "    \n",
    "    # Tokenizing\n",
    "    tokens = word_tokenize(phrase)\n",
    "    \n",
    "    # Remove Stop Words\n",
    "    stop_words = set(stopwords.words('english'))\n",
    "    tokens = [i for i in tokens if not i in stop_words]\n",
    "    \n",
    "    # Lemmatization\n",
    "    lemmatizer=WordNetLemmatizer()\n",
    "    tokens = [lemmatizer.lemmatize(i) for i in tokens]\n",
    "\n",
    "    return tokens"
   ]
  },
  {
   "cell_type": "code",
   "execution_count": 25,
   "metadata": {},
   "outputs": [],
   "source": [
    "def phrase_to_embedding(tokens):\n",
    "    words = [word for word in tokens if word in emb_model.vocab]\n",
    "    embeddings = np.zeros(300)\n",
    "    if len(words) >= 1:  \n",
    "        avg = np.mean(emb_model[words], axis=0)\n",
    "        for idx, e in enumerate(avg):\n",
    "            embeddings.flat[idx] = e\n",
    "            \n",
    "    return embeddings"
   ]
  },
  {
   "cell_type": "code",
   "execution_count": 27,
   "metadata": {},
   "outputs": [],
   "source": [
    "X = []\n",
    "y = []\n",
    "\n",
    "for index, row in topics_data.iterrows():\n",
    "    tokens = phrase_pre_processing(row['title'])\n",
    "    embeddings = phrase_to_embedding(tokens)\n",
    "    y.append(row['suicidal'])\n",
    "    X.append(embeddings)\n",
    "\n",
    "X = np.array(X)    \n",
    "y = np.array(y)"
   ]
  },
  {
   "cell_type": "code",
   "execution_count": 28,
   "metadata": {},
   "outputs": [
    {
     "data": {
      "text/plain": [
       "((1560, 300), (391, 300), (1560,), (391,))"
      ]
     },
     "execution_count": 28,
     "metadata": {},
     "output_type": "execute_result"
    }
   ],
   "source": [
    "X_train, X_test, y_train, y_test = train_test_split(X, y, test_size=0.2, random_state=1234)\n",
    "X_train.shape, X_test.shape, y_train.shape, y_test.shape"
   ]
  },
  {
   "cell_type": "code",
   "execution_count": 29,
   "metadata": {},
   "outputs": [
    {
     "data": {
      "text/plain": [
       "((1248, 300), (312, 300), (1248,), (312,))"
      ]
     },
     "execution_count": 29,
     "metadata": {},
     "output_type": "execute_result"
    }
   ],
   "source": [
    "train_X,valid_X,train_label,valid_label = train_test_split(X_train, y_train, test_size=0.2, random_state=1234)\n",
    "train_X.shape,valid_X.shape,train_label.shape,valid_label.shape"
   ]
  },
  {
   "cell_type": "code",
   "execution_count": 77,
   "metadata": {},
   "outputs": [
    {
     "data": {
      "text/plain": [
       "300"
      ]
     },
     "execution_count": 77,
     "metadata": {},
     "output_type": "execute_result"
    }
   ],
   "source": [
    "input_dim = X_train.shape[1]  # Number of features\n",
    "batch_size = 64\n",
    "epochs = 20\n",
    "\n",
    "input_dim"
   ]
  },
  {
   "cell_type": "code",
   "execution_count": 98,
   "metadata": {},
   "outputs": [],
   "source": [
    "model = Sequential()\n",
    "model.add(layers.Dense(32, input_dim=input_dim, activation='relu'))\n",
    "model.add(layers.Dense(1, activation='sigmoid'))"
   ]
  },
  {
   "cell_type": "code",
   "execution_count": 102,
   "metadata": {},
   "outputs": [],
   "source": [
    "model.compile(loss=binary_crossentropy, optimizer=Adam(), metrics=['accuracy'])"
   ]
  },
  {
   "cell_type": "code",
   "execution_count": 103,
   "metadata": {},
   "outputs": [
    {
     "name": "stdout",
     "output_type": "stream",
     "text": [
      "Train on 1248 samples, validate on 312 samples\n",
      "Epoch 1/20\n",
      "1248/1248 [==============================] - 1s 496us/sample - loss: 0.2791 - accuracy: 0.8814 - val_loss: 0.4091 - val_accuracy: 0.8013\n",
      "Epoch 2/20\n",
      "1248/1248 [==============================] - 0s 49us/sample - loss: 0.2715 - accuracy: 0.8870 - val_loss: 0.3957 - val_accuracy: 0.8237\n",
      "Epoch 3/20\n",
      "1248/1248 [==============================] - 0s 61us/sample - loss: 0.2686 - accuracy: 0.8894 - val_loss: 0.4069 - val_accuracy: 0.8109\n",
      "Epoch 4/20\n",
      "1248/1248 [==============================] - 0s 72us/sample - loss: 0.2642 - accuracy: 0.8926 - val_loss: 0.3972 - val_accuracy: 0.8205\n",
      "Epoch 5/20\n",
      "1248/1248 [==============================] - 0s 67us/sample - loss: 0.2577 - accuracy: 0.8990 - val_loss: 0.4051 - val_accuracy: 0.8141\n",
      "Epoch 6/20\n",
      "1248/1248 [==============================] - 0s 72us/sample - loss: 0.2564 - accuracy: 0.8982 - val_loss: 0.4022 - val_accuracy: 0.8205\n",
      "Epoch 7/20\n",
      "1248/1248 [==============================] - 0s 51us/sample - loss: 0.2505 - accuracy: 0.9038 - val_loss: 0.4066 - val_accuracy: 0.8173\n",
      "Epoch 8/20\n",
      "1248/1248 [==============================] - 0s 67us/sample - loss: 0.2464 - accuracy: 0.9030 - val_loss: 0.4061 - val_accuracy: 0.8237\n",
      "Epoch 9/20\n",
      "1248/1248 [==============================] - 0s 62us/sample - loss: 0.2432 - accuracy: 0.9038 - val_loss: 0.4081 - val_accuracy: 0.8205\n",
      "Epoch 10/20\n",
      "1248/1248 [==============================] - 0s 62us/sample - loss: 0.2398 - accuracy: 0.9014 - val_loss: 0.4129 - val_accuracy: 0.8141\n",
      "Epoch 11/20\n",
      "1248/1248 [==============================] - 0s 54us/sample - loss: 0.2361 - accuracy: 0.9095 - val_loss: 0.4086 - val_accuracy: 0.8301\n",
      "Epoch 12/20\n",
      "1248/1248 [==============================] - 0s 50us/sample - loss: 0.2347 - accuracy: 0.9038 - val_loss: 0.4177 - val_accuracy: 0.8141\n",
      "Epoch 13/20\n",
      "1248/1248 [==============================] - 0s 53us/sample - loss: 0.2313 - accuracy: 0.9079 - val_loss: 0.4203 - val_accuracy: 0.8173\n",
      "Epoch 14/20\n",
      "1248/1248 [==============================] - 0s 61us/sample - loss: 0.2265 - accuracy: 0.9095 - val_loss: 0.4183 - val_accuracy: 0.8237\n",
      "Epoch 15/20\n",
      "1248/1248 [==============================] - 0s 81us/sample - loss: 0.2224 - accuracy: 0.9143 - val_loss: 0.4199 - val_accuracy: 0.8205\n",
      "Epoch 16/20\n",
      "1248/1248 [==============================] - 0s 72us/sample - loss: 0.2193 - accuracy: 0.9135 - val_loss: 0.4187 - val_accuracy: 0.8237\n",
      "Epoch 17/20\n",
      "1248/1248 [==============================] - 0s 50us/sample - loss: 0.2184 - accuracy: 0.9127 - val_loss: 0.4237 - val_accuracy: 0.8237\n",
      "Epoch 18/20\n",
      "1248/1248 [==============================] - 0s 50us/sample - loss: 0.2145 - accuracy: 0.9143 - val_loss: 0.4235 - val_accuracy: 0.8237\n",
      "Epoch 19/20\n",
      "1248/1248 [==============================] - 0s 46us/sample - loss: 0.2104 - accuracy: 0.9191 - val_loss: 0.4283 - val_accuracy: 0.8205\n",
      "Epoch 20/20\n",
      "1248/1248 [==============================] - 0s 66us/sample - loss: 0.2098 - accuracy: 0.9175 - val_loss: 0.4352 - val_accuracy: 0.8109\n"
     ]
    }
   ],
   "source": [
    "model_train = model.fit(train_X, train_label, batch_size=batch_size, epochs=epochs, verbose=1, validation_data=(valid_X, valid_label))"
   ]
  },
  {
   "cell_type": "code",
   "execution_count": 104,
   "metadata": {},
   "outputs": [
    {
     "name": "stdout",
     "output_type": "stream",
     "text": [
      "Test Loss: 0.3863633121066081\n",
      "Test Accuracy: 0.8567775\n"
     ]
    }
   ],
   "source": [
    "test_eval = model.evaluate(X_test, y_test, verbose=0)\n",
    "print('Test Loss:', test_eval[0])\n",
    "print('Test Accuracy:', test_eval[1])"
   ]
  },
  {
   "cell_type": "code",
   "execution_count": 1,
   "metadata": {},
   "outputs": [
    {
     "ename": "NameError",
     "evalue": "name 'phrase_pre_processing' is not defined",
     "output_type": "error",
     "traceback": [
      "\u001b[1;31m---------------------------------------------------------------------------\u001b[0m",
      "\u001b[1;31mNameError\u001b[0m                                 Traceback (most recent call last)",
      "\u001b[1;32m<ipython-input-1-04af98f18dc6>\u001b[0m in \u001b[0;36m<module>\u001b[1;34m\u001b[0m\n\u001b[0;32m      1\u001b[0m \u001b[0mtest_phrase\u001b[0m \u001b[1;33m=\u001b[0m \u001b[1;34m\"\"\u001b[0m\u001b[1;33m\u001b[0m\u001b[1;33m\u001b[0m\u001b[0m\n\u001b[0;32m      2\u001b[0m \u001b[1;33m\u001b[0m\u001b[0m\n\u001b[1;32m----> 3\u001b[1;33m \u001b[0mtokens\u001b[0m \u001b[1;33m=\u001b[0m \u001b[0mphrase_pre_processing\u001b[0m\u001b[1;33m(\u001b[0m\u001b[0mtest_phrase\u001b[0m\u001b[1;33m)\u001b[0m\u001b[1;33m\u001b[0m\u001b[1;33m\u001b[0m\u001b[0m\n\u001b[0m\u001b[0;32m      4\u001b[0m \u001b[0membeddings\u001b[0m \u001b[1;33m=\u001b[0m \u001b[0mphrase_to_embedding\u001b[0m\u001b[1;33m(\u001b[0m\u001b[0mtokens\u001b[0m\u001b[1;33m)\u001b[0m\u001b[1;33m\u001b[0m\u001b[1;33m\u001b[0m\u001b[0m\n\u001b[0;32m      5\u001b[0m \u001b[1;33m\u001b[0m\u001b[0m\n",
      "\u001b[1;31mNameError\u001b[0m: name 'phrase_pre_processing' is not defined"
     ]
    }
   ],
   "source": [
    "test_phrase = \"\"\n",
    "\n",
    "tokens = phrase_pre_processing(test_phrase)\n",
    "embeddings = phrase_to_embedding(tokens)\n",
    "\n",
    "print(\"Suicidal Ideation Probability: \", model.predict(embeddings.reshape(-1,300))[0][0])"
   ]
  },
  {
   "cell_type": "code",
   "execution_count": null,
   "metadata": {},
   "outputs": [],
   "source": []
  }
 ],
 "metadata": {
  "kernelspec": {
   "display_name": "Python 3",
   "language": "python",
   "name": "python3"
  },
  "language_info": {
   "codemirror_mode": {
    "name": "ipython",
    "version": 3
   },
   "file_extension": ".py",
   "mimetype": "text/x-python",
   "name": "python",
   "nbconvert_exporter": "python",
   "pygments_lexer": "ipython3",
   "version": "3.7.6"
  }
 },
 "nbformat": 4,
 "nbformat_minor": 4
}
