{
 "cells": [
  {
   "cell_type": "markdown",
   "metadata": {
    "colab_type": "text",
    "id": "view-in-github"
   },
   "source": [
    "<a href=\"https://colab.research.google.com/github/iamdsc/humor_detection/blob/master/humor_detection.ipynb\" target=\"_parent\"><img src=\"https://colab.research.google.com/assets/colab-badge.svg\" alt=\"Open In Colab\"/></a>"
   ]
  },
  {
   "cell_type": "markdown",
   "metadata": {
    "colab_type": "text",
    "id": "UnjCSMWA_bod"
   },
   "source": [
    "## Humor Detection in One-liners"
   ]
  },
  {
   "cell_type": "code",
   "execution_count": 29,
   "metadata": {
    "colab": {
     "base_uri": "https://localhost:8080/",
     "height": 54
    },
    "colab_type": "code",
    "id": "SeKV32tTB8pE",
    "outputId": "36512c46-a891-443b-f38f-03888eb2932d"
   },
   "outputs": [
    {
     "name": "stdout",
     "output_type": "stream",
     "text": [
      " Volume in drive C has no label.\n",
      " Volume Serial Number is 7091-600A\n",
      "\n",
      " Directory of C:\\Users\\steen\\OneDrive\\Documents\\Github\\TherapyNow\\research\\datasets\\suicidal-ideation-datasets\n",
      "\n",
      "04/26/2020  03:42 AM    <DIR>          .\n",
      "04/26/2020  03:42 AM    <DIR>          ..\n",
      "04/25/2020  09:32 PM    <DIR>          .ipynb_checkpoints\n",
      "04/25/2020  07:54 PM            17,396 annotated_data0.csv\n",
      "04/25/2020  07:58 PM            18,930 annotated_data1.csv\n",
      "04/25/2020  07:54 PM            18,587 annotated_data2.csv\n",
      "04/25/2020  07:54 PM            18,295 annotated_data3.csv\n",
      "04/25/2020  07:54 PM            18,291 annotated_data4.csv\n",
      "04/25/2020  07:54 PM            17,706 annotated_data5.csv\n",
      "04/25/2020  07:54 PM            18,070 annotated_data6.csv\n",
      "04/25/2020  07:54 PM            17,609 annotated_data7.csv\n",
      "04/25/2020  07:54 PM            18,247 annotated_data8.csv\n",
      "04/25/2020  07:54 PM            19,789 annotated_data9.csv\n",
      "04/25/2020  09:30 PM    <DIR>          datasets\n",
      "04/25/2020  09:31 PM    <DIR>          humor_detection\n",
      "04/25/2020  11:38 PM           127,711 humor_detection.ipynb\n",
      "04/25/2020  11:03 PM             1,669 humor_detection_linreg.pkl\n",
      "04/25/2020  11:34 PM         3,530,870 humor_features.csv\n",
      "04/26/2020  03:42 AM            16,557 Model.ipynb\n",
      "              14 File(s)      3,859,727 bytes\n",
      "               5 Dir(s)  311,603,183,616 bytes free\n"
     ]
    }
   ],
   "source": [
    "!dir"
   ]
  },
  {
   "cell_type": "code",
   "execution_count": 30,
   "metadata": {
    "colab": {},
    "colab_type": "code",
    "id": "byjqlL3jCOkj"
   },
   "outputs": [],
   "source": [
    "import pandas as pd\n",
    "\n",
    "\n",
    "humour = pd.read_pickle('datasets/humorous_oneliners.pickle')\n",
    "proverb = pd.read_pickle('datasets/proverbs.pickle')\n",
    "wiki = pd.read_pickle('datasets/wiki_sentences.pickle')\n",
    "long_humour = pd.read_pickle('datasets/oneliners_incl_doubles.pickle')\n",
    "reuters = pd.read_pickle('datasets/reuters_headlines.pickle')"
   ]
  },
  {
   "cell_type": "code",
   "execution_count": 31,
   "metadata": {
    "colab": {
     "base_uri": "https://localhost:8080/",
     "height": 35
    },
    "colab_type": "code",
    "id": "eFBE0uB5Lbmn",
    "outputId": "56382898-1271-416f-e307-11208db2dacc"
   },
   "outputs": [
    {
     "name": "stdout",
     "output_type": "stream",
     "text": [
      "5251 1019 5251 5243\n"
     ]
    }
   ],
   "source": [
    "print(len(humour), len(proverb), len(wiki), len(reuters))"
   ]
  },
  {
   "cell_type": "code",
   "execution_count": 32,
   "metadata": {
    "colab": {},
    "colab_type": "code",
    "id": "Ke4Ll6YFP-a-"
   },
   "outputs": [],
   "source": [
    "# building dataframe from the data\n",
    "# giving humourous sentence positive class and rest negative class\n",
    "humour_record = [(sent, 1) for sent in humour]\n",
    "proverb_record = [(sent, 0) for sent in proverb]\n",
    "wiki_record = [(sent, 0) for sent in wiki]\n",
    "reuter_record = [(sent, 0) for sent in reuters]"
   ]
  },
  {
   "cell_type": "code",
   "execution_count": 33,
   "metadata": {
    "colab": {
     "base_uri": "https://localhost:8080/",
     "height": 127
    },
    "colab_type": "code",
    "id": "CxOgamn5RTtg",
    "outputId": "edb75f15-5cb6-4412-c900-105642e155dd"
   },
   "outputs": [
    {
     "name": "stdout",
     "output_type": "stream",
     "text": [
      "                                            sentence  class\n",
      "0  Men look at a woman's behind and go \"Oh! What ...      1\n",
      "1  I used to be a wrestler, I would get a guy in ...      1\n",
      "2            Do you need a silencer to shoot a mime?      1\n",
      "3  I used to play the triangle in a reggae band b...      1\n",
      "4  What happened to the fly that sat on the toile...      1\n"
     ]
    }
   ],
   "source": [
    "import random\n",
    "\n",
    "\n",
    "pos_record = humour_record\n",
    "neg_record = proverb_record + wiki_record + reuter_record\n",
    "columns = ['sentence', 'class']\n",
    "\n",
    "# Randomly picking len(pos_records) records from negative class\n",
    "random.shuffle(neg_record)\n",
    "neg_record = neg_record[:len(pos_record)]\n",
    "\n",
    "# Build the dataframe\n",
    "df_record = pos_record + neg_record \n",
    "df = pd.DataFrame(df_record, columns=columns)\n",
    "\n",
    "# shuffle the dataframe and reset the index\n",
    "df = df.sample(frac=1).reset_index(drop=True)\n",
    "print(df.head())"
   ]
  },
  {
   "cell_type": "code",
   "execution_count": 34,
   "metadata": {
    "colab": {
     "base_uri": "https://localhost:8080/",
     "height": 72
    },
    "colab_type": "code",
    "id": "PuV4QJJzSj9m",
    "outputId": "28f112ad-0fed-4188-be4b-2cadb4498644"
   },
   "outputs": [
    {
     "data": {
      "text/plain": [
       "1    5251\n",
       "0    5251\n",
       "Name: class, dtype: int64"
      ]
     },
     "execution_count": 34,
     "metadata": {},
     "output_type": "execute_result"
    }
   ],
   "source": [
    "df['class'].value_counts()"
   ]
  },
  {
   "cell_type": "code",
   "execution_count": 36,
   "metadata": {
    "colab": {},
    "colab_type": "code",
    "id": "iNzu8-u4Dt0h"
   },
   "outputs": [],
   "source": [
    "# Creating word vectors\n",
    "from gensim.models import FastText\n",
    "\n",
    "text=[]\n",
    "for sentence,_ in df_record:\n",
    "  sent_word_list = [word for word in sentence.lower().split()]\n",
    "  text.append(sent_word_list)\n",
    "\n",
    "w2v = Word2Vec(text, min_count=1)"
   ]
  },
  {
   "cell_type": "code",
   "execution_count": 38,
   "metadata": {
    "colab": {
     "base_uri": "https://localhost:8080/",
     "height": 74
    },
    "colab_type": "code",
    "id": "_IQGY0_WZ7VI",
    "outputId": "36cc55c2-e5e4-4baf-e049-882381d49d5e"
   },
   "outputs": [
    {
     "name": "stderr",
     "output_type": "stream",
     "text": [
      "C:\\Users\\steen\\Anaconda3\\lib\\site-packages\\ipykernel_launcher.py:6: DeprecationWarning: Call to deprecated `__getitem__` (Method will be removed in 4.0.0, use self.wv.__getitem__() instead).\n",
      "  \n"
     ]
    }
   ],
   "source": [
    "# building list of sentence vectors\n",
    "vect_record=[]\n",
    "for i in range(len(df['sentence'])):\n",
    "  sent = df['sentence'][i]\n",
    "  if len(sent)!=0:\n",
    "    sent_vect = sum([w2v[w] for w in sent.lower().split()])/(len(sent.split())+0.001)\n",
    "  else:  \n",
    "    sent_vect = np.zeros((100,))\n",
    "  vect_record.append(sent_vect) "
   ]
  },
  {
   "cell_type": "code",
   "execution_count": 39,
   "metadata": {
    "colab": {
     "base_uri": "https://localhost:8080/",
     "height": 439
    },
    "colab_type": "code",
    "id": "U6fQDPuIgSbA",
    "outputId": "f311bb33-939b-44a6-c327-79232c9c4e99"
   },
   "outputs": [
    {
     "name": "stdout",
     "output_type": "stream",
     "text": [
      "         0         1         2         3         4         5         6   \\\n",
      "0 -0.658298  0.949079 -0.041581  0.371437 -0.478547  0.044556  0.979343   \n",
      "1 -0.827007  1.162999 -0.092464  0.397053 -0.714838 -0.070122  1.202632   \n",
      "2 -0.780032  1.113149 -0.001697  0.495354 -0.429449  0.204053  1.150570   \n",
      "3 -0.787824  1.111206 -0.093086  0.376728 -0.688702 -0.070569  1.146196   \n",
      "4 -0.656605  0.943812 -0.057467  0.358178 -0.507506  0.021298  0.970246   \n",
      "\n",
      "         7         8         9   ...        90        91        92        93  \\\n",
      "0 -0.236939 -0.800766 -0.347240  ... -0.132711 -1.045771 -0.065090 -0.735672   \n",
      "1 -0.249733 -0.940331 -0.466606  ... -0.074358 -1.245247 -0.118414 -0.956603   \n",
      "2 -0.311879 -0.981661 -0.385503  ... -0.277987 -1.294405 -0.046621 -0.796837   \n",
      "3 -0.239507 -0.892008 -0.439740  ... -0.066334 -1.181674 -0.112064 -0.915533   \n",
      "4 -0.227570 -0.783501 -0.344436  ... -0.113678 -1.030849 -0.071326 -0.745172   \n",
      "\n",
      "         94        95        96        97        98        99  \n",
      "0 -0.632004  0.547310 -0.164208  0.425145  0.085143 -1.077747  \n",
      "1 -0.757164  0.711882 -0.148405  0.470552  0.127544 -1.315029  \n",
      "2 -0.777779  0.593600 -0.259810  0.569472  0.052844 -1.288851  \n",
      "3 -0.723095  0.683850 -0.140432  0.443648  0.135789 -1.255208  \n",
      "4 -0.627754  0.556482 -0.154315  0.408024  0.108475 -1.074361  \n",
      "\n",
      "[5 rows x 100 columns]\n",
      "(10502, 100)\n"
     ]
    }
   ],
   "source": [
    "X = pd.DataFrame(vect_record, columns=range(100))\n",
    "print(X.head())\n",
    "print(X.shape)"
   ]
  },
  {
   "cell_type": "code",
   "execution_count": 40,
   "metadata": {
    "colab": {
     "base_uri": "https://localhost:8080/",
     "height": 35
    },
    "colab_type": "code",
    "id": "wy84zVMsbTfu",
    "outputId": "2e6c126c-d914-43c8-f26c-55182c7e1e2d"
   },
   "outputs": [
    {
     "name": "stdout",
     "output_type": "stream",
     "text": [
      "<class 'pandas.core.series.Series'>\n"
     ]
    }
   ],
   "source": [
    "y = df['class']\n",
    "print(type(y))"
   ]
  },
  {
   "cell_type": "code",
   "execution_count": 41,
   "metadata": {
    "colab": {},
    "colab_type": "code",
    "id": "7HXFjdR38pFK"
   },
   "outputs": [],
   "source": [
    "# Performaing train test split\n",
    "from sklearn.model_selection import train_test_split\n",
    "\n",
    "X_train, X_test, y_train, y_test = train_test_split(X, y, test_size=0.2, random_state=1, stratify=y)"
   ]
  },
  {
   "cell_type": "code",
   "execution_count": 42,
   "metadata": {
    "colab": {
     "base_uri": "https://localhost:8080/",
     "height": 54
    },
    "colab_type": "code",
    "id": "KIte5x6C9VsB",
    "outputId": "a51eec9e-fcb5-4516-8755-4edae3107864"
   },
   "outputs": [
    {
     "name": "stdout",
     "output_type": "stream",
     "text": [
      "Training Data:  (8401, 100) (8401,)\n",
      "Test Data:  (2101, 100) (2101,)\n"
     ]
    }
   ],
   "source": [
    "print('Training Data: ', X_train.shape, y_train.shape)\n",
    "print('Test Data: ', X_test.shape, y_test.shape)"
   ]
  },
  {
   "cell_type": "code",
   "execution_count": 43,
   "metadata": {
    "colab": {
     "base_uri": "https://localhost:8080/",
     "height": 90
    },
    "colab_type": "code",
    "id": "qRJLse1v9n5K",
    "outputId": "3deef819-626d-4439-fd7a-e7521f920186"
   },
   "outputs": [
    {
     "data": {
      "text/plain": [
       "SVC(C=1.0, cache_size=200, class_weight=None, coef0=0.0,\n",
       "    decision_function_shape='ovr', degree=3, gamma='auto_deprecated',\n",
       "    kernel='linear', max_iter=-1, probability=False, random_state=1,\n",
       "    shrinking=True, tol=0.001, verbose=False)"
      ]
     },
     "execution_count": 43,
     "metadata": {},
     "output_type": "execute_result"
    }
   ],
   "source": [
    "from sklearn.svm import SVC\n",
    "\n",
    "# fit the SVM model with linear Kernel\n",
    "svm = SVC(kernel='linear', random_state=1, C=1.0)\n",
    "svm.fit(X_train, y_train)"
   ]
  },
  {
   "cell_type": "code",
   "execution_count": 44,
   "metadata": {
    "colab": {
     "base_uri": "https://localhost:8080/",
     "height": 35
    },
    "colab_type": "code",
    "id": "Ao_yt6XSAidX",
    "outputId": "40e5c527-7c03-43c3-cad3-d9f99245fd98"
   },
   "outputs": [
    {
     "name": "stdout",
     "output_type": "stream",
     "text": [
      "[0 1 0 0 0]\n"
     ]
    }
   ],
   "source": [
    "# performing prediction in test samples\n",
    "y_pred = svm.predict(X_test)\n",
    "print(y_pred[:5])"
   ]
  },
  {
   "cell_type": "code",
   "execution_count": 45,
   "metadata": {
    "colab": {
     "base_uri": "https://localhost:8080/",
     "height": 35
    },
    "colab_type": "code",
    "id": "rDC1kscSBi1O",
    "outputId": "660996c4-4476-4d52-9ae0-ada298777438"
   },
   "outputs": [
    {
     "name": "stdout",
     "output_type": "stream",
     "text": [
      "Test Accuracy Score:  0.829128986197049\n"
     ]
    }
   ],
   "source": [
    "# Calculating Classification Accuracy\n",
    "from sklearn.metrics import accuracy_score\n",
    "\n",
    "print('Test Accuracy Score: ',accuracy_score(y_pred, y_test))"
   ]
  },
  {
   "cell_type": "code",
   "execution_count": 46,
   "metadata": {
    "colab": {
     "base_uri": "https://localhost:8080/",
     "height": 35
    },
    "colab_type": "code",
    "id": "-tUfXBz2CC2a",
    "outputId": "f8dfbe86-967c-46e0-a84a-b0c650e7b930"
   },
   "outputs": [
    {
     "name": "stdout",
     "output_type": "stream",
     "text": [
      "CV accuracy: 0.814 +/- 0.019\n"
     ]
    }
   ],
   "source": [
    "# Calculating Cross Validation Accuracy\n",
    "from sklearn.model_selection import cross_val_score\n",
    "import numpy as np\n",
    "\n",
    "scores = cross_val_score(estimator=svm, X=X_train, y=y_train, cv=10, n_jobs=-1)\n",
    "print('CV accuracy: %.3f +/- %.3f'%(np.mean(scores),np.std(scores)))"
   ]
  },
  {
   "cell_type": "code",
   "execution_count": 47,
   "metadata": {
    "colab": {
     "base_uri": "https://localhost:8080/",
     "height": 110
    },
    "colab_type": "code",
    "id": "fcddQIk3IYFm",
    "outputId": "b8036bf6-8887-4c68-dc74-6d12552367d6"
   },
   "outputs": [
    {
     "name": "stderr",
     "output_type": "stream",
     "text": [
      "C:\\Users\\steen\\Anaconda3\\lib\\site-packages\\sklearn\\linear_model\\logistic.py:432: FutureWarning: Default solver will be changed to 'lbfgs' in 0.22. Specify a solver to silence this warning.\n",
      "  FutureWarning)\n"
     ]
    },
    {
     "name": "stdout",
     "output_type": "stream",
     "text": [
      "Test Accuracy score:  0.8810090433127082\n",
      "CV accuracy: 0.868 +/- 0.014\n"
     ]
    }
   ],
   "source": [
    "# Using Logistic Regression Classifier\n",
    "from sklearn.linear_model import LogisticRegression\n",
    "\n",
    "lr = LogisticRegression(C=100.0, random_state=1)\n",
    "lr.fit(X_train, y_train)\n",
    "\n",
    "# performing prediction on test samples\n",
    "y_pred = lr.predict(X_test)\n",
    "\n",
    "print('Test Accuracy score: ', accuracy_score(y_pred, y_test))\n",
    "\n",
    "scores = cross_val_score(estimator=lr, X=X_train, y=y_train, cv=10, n_jobs=-1)\n",
    "print('CV accuracy: %.3f +/- %.3f'%(np.mean(scores),np.std(scores)))"
   ]
  },
  {
   "cell_type": "code",
   "execution_count": 48,
   "metadata": {
    "colab": {},
    "colab_type": "code",
    "id": "czTvj-4A4Fvs"
   },
   "outputs": [
    {
     "data": {
      "text/plain": [
       "['humor_detection_linreg.pkl']"
      ]
     },
     "execution_count": 48,
     "metadata": {},
     "output_type": "execute_result"
    }
   ],
   "source": [
    "from sklearn.externals import joblib\n",
    "\n",
    "joblib.dump(lr, 'humor_detection_linreg.pkl') "
   ]
  }
 ],
 "metadata": {
  "colab": {
   "collapsed_sections": [],
   "include_colab_link": true,
   "name": "humor_detection.ipynb",
   "provenance": [],
   "version": "0.3.2"
  },
  "kernelspec": {
   "display_name": "Python 3",
   "language": "python",
   "name": "python3"
  },
  "language_info": {
   "codemirror_mode": {
    "name": "ipython",
    "version": 3
   },
   "file_extension": ".py",
   "mimetype": "text/x-python",
   "name": "python",
   "nbconvert_exporter": "python",
   "pygments_lexer": "ipython3",
   "version": "3.7.4"
  }
 },
 "nbformat": 4,
 "nbformat_minor": 1
}
